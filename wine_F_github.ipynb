{
  "nbformat": 4,
  "nbformat_minor": 0,
  "metadata": {
    "colab": {
      "name": "wine_F_github",
      "provenance": [],
      "authorship_tag": "ABX9TyMjcjbDRvk55AGKY84D5nWR",
      "include_colab_link": true
    },
    "kernelspec": {
      "name": "python3",
      "display_name": "Python 3"
    },
    "language_info": {
      "name": "python"
    }
  },
  "cells": [
    {
      "cell_type": "markdown",
      "metadata": {
        "id": "view-in-github",
        "colab_type": "text"
      },
      "source": [
        "<a href=\"https://colab.research.google.com/github/Dorra2021/KNN_Vin/blob/main/wine_F_github.ipynb\" target=\"_parent\"><img src=\"https://colab.research.google.com/assets/colab-badge.svg\" alt=\"Open In Colab\"/></a>"
      ]
    },
    {
      "cell_type": "code",
      "execution_count": 228,
      "metadata": {
        "id": "2_49RB_yzKJs"
      },
      "outputs": [],
      "source": [
        "import pandas as pd\n",
        "import numpy as np\n",
        "import matplotlib.pyplot as plt\n",
        "import os"
      ]
    },
    {
      "cell_type": "code",
      "source": [
        "from google.colab import drive\n",
        "drive.mount('/content/drive')\n",
        "import os"
      ],
      "metadata": {
        "colab": {
          "base_uri": "https://localhost:8080/"
        },
        "id": "1d0DbkZ1zSI9",
        "outputId": "2ea397b8-b8b1-407c-b005-019547d056ce"
      },
      "execution_count": 229,
      "outputs": [
        {
          "output_type": "stream",
          "name": "stdout",
          "text": [
            "Drive already mounted at /content/drive; to attempt to forcibly remount, call drive.mount(\"/content/drive\", force_remount=True).\n"
          ]
        }
      ]
    },
    {
      "cell_type": "code",
      "source": [
        "os.chdir('/content/drive/My Drive/wine_ML/')"
      ],
      "metadata": {
        "id": "fef6V_zdzWyW"
      },
      "execution_count": 230,
      "outputs": []
    },
    {
      "cell_type": "code",
      "source": [
        "pd.set_option('display.max_columns', None)"
      ],
      "metadata": {
        "id": "3uxUcIVMzY39"
      },
      "execution_count": 231,
      "outputs": []
    },
    {
      "cell_type": "code",
      "source": [
        "data= pd.read_csv('/content/drive/My Drive/wine_ML/winequality-white.csv',sep=\";\")\n",
        "print(data.head())"
      ],
      "metadata": {
        "colab": {
          "base_uri": "https://localhost:8080/"
        },
        "id": "0kxoIA7eJBs9",
        "outputId": "2792db76-e5d2-44f9-a6a4-34c10ef51bac"
      },
      "execution_count": 232,
      "outputs": [
        {
          "output_type": "stream",
          "name": "stdout",
          "text": [
            "   fixed acidity  volatile acidity  citric acid  residual sugar  chlorides  \\\n",
            "0            7.0              0.27         0.36            20.7      0.045   \n",
            "1            6.3              0.30         0.34             1.6      0.049   \n",
            "2            8.1              0.28         0.40             6.9      0.050   \n",
            "3            7.2              0.23         0.32             8.5      0.058   \n",
            "4            7.2              0.23         0.32             8.5      0.058   \n",
            "\n",
            "   free sulfur dioxide  total sulfur dioxide  density    pH  sulphates  \\\n",
            "0                 45.0                 170.0   1.0010  3.00       0.45   \n",
            "1                 14.0                 132.0   0.9940  3.30       0.49   \n",
            "2                 30.0                  97.0   0.9951  3.26       0.44   \n",
            "3                 47.0                 186.0   0.9956  3.19       0.40   \n",
            "4                 47.0                 186.0   0.9956  3.19       0.40   \n",
            "\n",
            "   alcohol  quality  \n",
            "0      8.8        6  \n",
            "1      9.5        6  \n",
            "2     10.1        6  \n",
            "3      9.9        6  \n",
            "4      9.9        6  \n"
          ]
        }
      ]
    },
    {
      "cell_type": "code",
      "source": [
        "data.shape"
      ],
      "metadata": {
        "colab": {
          "base_uri": "https://localhost:8080/"
        },
        "id": "5-NMYfhoJNX0",
        "outputId": "5adeeb4b-ce47-406c-d547-99cf93730743"
      },
      "execution_count": 233,
      "outputs": [
        {
          "output_type": "execute_result",
          "data": {
            "text/plain": [
              "(4898, 12)"
            ]
          },
          "metadata": {},
          "execution_count": 233
        }
      ]
    },
    {
      "cell_type": "markdown",
      "source": [
        "Diviser notre data set en target et variables explicatives"
      ],
      "metadata": {
        "id": "BcVtKomlJS_n"
      }
    },
    {
      "cell_type": "code",
      "source": [
        "data.head()"
      ],
      "metadata": {
        "colab": {
          "base_uri": "https://localhost:8080/",
          "height": 250
        },
        "id": "Hri7kEEPJbBW",
        "outputId": "170483f6-4e68-4cd8-a897-95dfb21901b1"
      },
      "execution_count": 234,
      "outputs": [
        {
          "output_type": "execute_result",
          "data": {
            "text/plain": [
              "   fixed acidity  volatile acidity  citric acid  residual sugar  chlorides  \\\n",
              "0            7.0              0.27         0.36            20.7      0.045   \n",
              "1            6.3              0.30         0.34             1.6      0.049   \n",
              "2            8.1              0.28         0.40             6.9      0.050   \n",
              "3            7.2              0.23         0.32             8.5      0.058   \n",
              "4            7.2              0.23         0.32             8.5      0.058   \n",
              "\n",
              "   free sulfur dioxide  total sulfur dioxide  density    pH  sulphates  \\\n",
              "0                 45.0                 170.0   1.0010  3.00       0.45   \n",
              "1                 14.0                 132.0   0.9940  3.30       0.49   \n",
              "2                 30.0                  97.0   0.9951  3.26       0.44   \n",
              "3                 47.0                 186.0   0.9956  3.19       0.40   \n",
              "4                 47.0                 186.0   0.9956  3.19       0.40   \n",
              "\n",
              "   alcohol  quality  \n",
              "0      8.8        6  \n",
              "1      9.5        6  \n",
              "2     10.1        6  \n",
              "3      9.9        6  \n",
              "4      9.9        6  "
            ],
            "text/html": [
              "\n",
              "  <div id=\"df-5cc81efb-9529-426d-beb8-61eea12ada8b\">\n",
              "    <div class=\"colab-df-container\">\n",
              "      <div>\n",
              "<style scoped>\n",
              "    .dataframe tbody tr th:only-of-type {\n",
              "        vertical-align: middle;\n",
              "    }\n",
              "\n",
              "    .dataframe tbody tr th {\n",
              "        vertical-align: top;\n",
              "    }\n",
              "\n",
              "    .dataframe thead th {\n",
              "        text-align: right;\n",
              "    }\n",
              "</style>\n",
              "<table border=\"1\" class=\"dataframe\">\n",
              "  <thead>\n",
              "    <tr style=\"text-align: right;\">\n",
              "      <th></th>\n",
              "      <th>fixed acidity</th>\n",
              "      <th>volatile acidity</th>\n",
              "      <th>citric acid</th>\n",
              "      <th>residual sugar</th>\n",
              "      <th>chlorides</th>\n",
              "      <th>free sulfur dioxide</th>\n",
              "      <th>total sulfur dioxide</th>\n",
              "      <th>density</th>\n",
              "      <th>pH</th>\n",
              "      <th>sulphates</th>\n",
              "      <th>alcohol</th>\n",
              "      <th>quality</th>\n",
              "    </tr>\n",
              "  </thead>\n",
              "  <tbody>\n",
              "    <tr>\n",
              "      <th>0</th>\n",
              "      <td>7.0</td>\n",
              "      <td>0.27</td>\n",
              "      <td>0.36</td>\n",
              "      <td>20.7</td>\n",
              "      <td>0.045</td>\n",
              "      <td>45.0</td>\n",
              "      <td>170.0</td>\n",
              "      <td>1.0010</td>\n",
              "      <td>3.00</td>\n",
              "      <td>0.45</td>\n",
              "      <td>8.8</td>\n",
              "      <td>6</td>\n",
              "    </tr>\n",
              "    <tr>\n",
              "      <th>1</th>\n",
              "      <td>6.3</td>\n",
              "      <td>0.30</td>\n",
              "      <td>0.34</td>\n",
              "      <td>1.6</td>\n",
              "      <td>0.049</td>\n",
              "      <td>14.0</td>\n",
              "      <td>132.0</td>\n",
              "      <td>0.9940</td>\n",
              "      <td>3.30</td>\n",
              "      <td>0.49</td>\n",
              "      <td>9.5</td>\n",
              "      <td>6</td>\n",
              "    </tr>\n",
              "    <tr>\n",
              "      <th>2</th>\n",
              "      <td>8.1</td>\n",
              "      <td>0.28</td>\n",
              "      <td>0.40</td>\n",
              "      <td>6.9</td>\n",
              "      <td>0.050</td>\n",
              "      <td>30.0</td>\n",
              "      <td>97.0</td>\n",
              "      <td>0.9951</td>\n",
              "      <td>3.26</td>\n",
              "      <td>0.44</td>\n",
              "      <td>10.1</td>\n",
              "      <td>6</td>\n",
              "    </tr>\n",
              "    <tr>\n",
              "      <th>3</th>\n",
              "      <td>7.2</td>\n",
              "      <td>0.23</td>\n",
              "      <td>0.32</td>\n",
              "      <td>8.5</td>\n",
              "      <td>0.058</td>\n",
              "      <td>47.0</td>\n",
              "      <td>186.0</td>\n",
              "      <td>0.9956</td>\n",
              "      <td>3.19</td>\n",
              "      <td>0.40</td>\n",
              "      <td>9.9</td>\n",
              "      <td>6</td>\n",
              "    </tr>\n",
              "    <tr>\n",
              "      <th>4</th>\n",
              "      <td>7.2</td>\n",
              "      <td>0.23</td>\n",
              "      <td>0.32</td>\n",
              "      <td>8.5</td>\n",
              "      <td>0.058</td>\n",
              "      <td>47.0</td>\n",
              "      <td>186.0</td>\n",
              "      <td>0.9956</td>\n",
              "      <td>3.19</td>\n",
              "      <td>0.40</td>\n",
              "      <td>9.9</td>\n",
              "      <td>6</td>\n",
              "    </tr>\n",
              "  </tbody>\n",
              "</table>\n",
              "</div>\n",
              "      <button class=\"colab-df-convert\" onclick=\"convertToInteractive('df-5cc81efb-9529-426d-beb8-61eea12ada8b')\"\n",
              "              title=\"Convert this dataframe to an interactive table.\"\n",
              "              style=\"display:none;\">\n",
              "        \n",
              "  <svg xmlns=\"http://www.w3.org/2000/svg\" height=\"24px\"viewBox=\"0 0 24 24\"\n",
              "       width=\"24px\">\n",
              "    <path d=\"M0 0h24v24H0V0z\" fill=\"none\"/>\n",
              "    <path d=\"M18.56 5.44l.94 2.06.94-2.06 2.06-.94-2.06-.94-.94-2.06-.94 2.06-2.06.94zm-11 1L8.5 8.5l.94-2.06 2.06-.94-2.06-.94L8.5 2.5l-.94 2.06-2.06.94zm10 10l.94 2.06.94-2.06 2.06-.94-2.06-.94-.94-2.06-.94 2.06-2.06.94z\"/><path d=\"M17.41 7.96l-1.37-1.37c-.4-.4-.92-.59-1.43-.59-.52 0-1.04.2-1.43.59L10.3 9.45l-7.72 7.72c-.78.78-.78 2.05 0 2.83L4 21.41c.39.39.9.59 1.41.59.51 0 1.02-.2 1.41-.59l7.78-7.78 2.81-2.81c.8-.78.8-2.07 0-2.86zM5.41 20L4 18.59l7.72-7.72 1.47 1.35L5.41 20z\"/>\n",
              "  </svg>\n",
              "      </button>\n",
              "      \n",
              "  <style>\n",
              "    .colab-df-container {\n",
              "      display:flex;\n",
              "      flex-wrap:wrap;\n",
              "      gap: 12px;\n",
              "    }\n",
              "\n",
              "    .colab-df-convert {\n",
              "      background-color: #E8F0FE;\n",
              "      border: none;\n",
              "      border-radius: 50%;\n",
              "      cursor: pointer;\n",
              "      display: none;\n",
              "      fill: #1967D2;\n",
              "      height: 32px;\n",
              "      padding: 0 0 0 0;\n",
              "      width: 32px;\n",
              "    }\n",
              "\n",
              "    .colab-df-convert:hover {\n",
              "      background-color: #E2EBFA;\n",
              "      box-shadow: 0px 1px 2px rgba(60, 64, 67, 0.3), 0px 1px 3px 1px rgba(60, 64, 67, 0.15);\n",
              "      fill: #174EA6;\n",
              "    }\n",
              "\n",
              "    [theme=dark] .colab-df-convert {\n",
              "      background-color: #3B4455;\n",
              "      fill: #D2E3FC;\n",
              "    }\n",
              "\n",
              "    [theme=dark] .colab-df-convert:hover {\n",
              "      background-color: #434B5C;\n",
              "      box-shadow: 0px 1px 3px 1px rgba(0, 0, 0, 0.15);\n",
              "      filter: drop-shadow(0px 1px 2px rgba(0, 0, 0, 0.3));\n",
              "      fill: #FFFFFF;\n",
              "    }\n",
              "  </style>\n",
              "\n",
              "      <script>\n",
              "        const buttonEl =\n",
              "          document.querySelector('#df-5cc81efb-9529-426d-beb8-61eea12ada8b button.colab-df-convert');\n",
              "        buttonEl.style.display =\n",
              "          google.colab.kernel.accessAllowed ? 'block' : 'none';\n",
              "\n",
              "        async function convertToInteractive(key) {\n",
              "          const element = document.querySelector('#df-5cc81efb-9529-426d-beb8-61eea12ada8b');\n",
              "          const dataTable =\n",
              "            await google.colab.kernel.invokeFunction('convertToInteractive',\n",
              "                                                     [key], {});\n",
              "          if (!dataTable) return;\n",
              "\n",
              "          const docLinkHtml = 'Like what you see? Visit the ' +\n",
              "            '<a target=\"_blank\" href=https://colab.research.google.com/notebooks/data_table.ipynb>data table notebook</a>'\n",
              "            + ' to learn more about interactive tables.';\n",
              "          element.innerHTML = '';\n",
              "          dataTable['output_type'] = 'display_data';\n",
              "          await google.colab.output.renderOutput(dataTable, element);\n",
              "          const docLink = document.createElement('div');\n",
              "          docLink.innerHTML = docLinkHtml;\n",
              "          element.appendChild(docLink);\n",
              "        }\n",
              "      </script>\n",
              "    </div>\n",
              "  </div>\n",
              "  "
            ]
          },
          "metadata": {},
          "execution_count": 234
        }
      ]
    },
    {
      "cell_type": "code",
      "source": [
        "y=data.iloc[:,-1].values\n",
        "X=data.iloc[:,1:11].values"
      ],
      "metadata": {
        "id": "1X0--Z7eJSWl"
      },
      "execution_count": 235,
      "outputs": []
    },
    {
      "cell_type": "code",
      "source": [
        "X"
      ],
      "metadata": {
        "colab": {
          "base_uri": "https://localhost:8080/"
        },
        "id": "C8zMCyXoKRH3",
        "outputId": "204b3041-03f2-4b30-9386-861380dfeffc"
      },
      "execution_count": 236,
      "outputs": [
        {
          "output_type": "execute_result",
          "data": {
            "text/plain": [
              "array([[ 0.27,  0.36, 20.7 , ...,  3.  ,  0.45,  8.8 ],\n",
              "       [ 0.3 ,  0.34,  1.6 , ...,  3.3 ,  0.49,  9.5 ],\n",
              "       [ 0.28,  0.4 ,  6.9 , ...,  3.26,  0.44, 10.1 ],\n",
              "       ...,\n",
              "       [ 0.24,  0.19,  1.2 , ...,  2.99,  0.46,  9.4 ],\n",
              "       [ 0.29,  0.3 ,  1.1 , ...,  3.34,  0.38, 12.8 ],\n",
              "       [ 0.21,  0.38,  0.8 , ...,  3.26,  0.32, 11.8 ]])"
            ]
          },
          "metadata": {},
          "execution_count": 236
        }
      ]
    },
    {
      "cell_type": "code",
      "source": [
        "y"
      ],
      "metadata": {
        "colab": {
          "base_uri": "https://localhost:8080/"
        },
        "id": "Mg1o63k3LP-1",
        "outputId": "cda6627b-4c8c-420d-f4ac-b3732941e210"
      },
      "execution_count": 237,
      "outputs": [
        {
          "output_type": "execute_result",
          "data": {
            "text/plain": [
              "array([6, 6, 6, ..., 6, 7, 6])"
            ]
          },
          "metadata": {},
          "execution_count": 237
        }
      ]
    },
    {
      "cell_type": "code",
      "source": [
        "#X = data[data.columns[:-1]].values #data.columns pour faire référence au nom des colonnes\n",
        "#[prendre toutes les colonnes jusqu'à la colonne n-1]\n",
        "#.values enlève tous les noms de colonnes et retoutne un numpy array avec toutes les valeurs"
      ],
      "metadata": {
        "id": "E19CR20A0jbr"
      },
      "execution_count": 238,
      "outputs": []
    },
    {
      "cell_type": "code",
      "source": [
        "print(X)"
      ],
      "metadata": {
        "colab": {
          "base_uri": "https://localhost:8080/"
        },
        "id": "T7j1rnAcobYl",
        "outputId": "dadd2d40-4255-4d22-fc70-e28534e64fdb"
      },
      "execution_count": 239,
      "outputs": [
        {
          "output_type": "stream",
          "name": "stdout",
          "text": [
            "[[ 0.27  0.36 20.7  ...  3.    0.45  8.8 ]\n",
            " [ 0.3   0.34  1.6  ...  3.3   0.49  9.5 ]\n",
            " [ 0.28  0.4   6.9  ...  3.26  0.44 10.1 ]\n",
            " ...\n",
            " [ 0.24  0.19  1.2  ...  2.99  0.46  9.4 ]\n",
            " [ 0.29  0.3   1.1  ...  3.34  0.38 12.8 ]\n",
            " [ 0.21  0.38  0.8  ...  3.26  0.32 11.8 ]]\n"
          ]
        }
      ]
    },
    {
      "cell_type": "code",
      "source": [
        "#XTrain = data.iloc[:,:-1].values\n",
        "#print(XTrain)"
      ],
      "metadata": {
        "id": "jgVJ23P7rrLo"
      },
      "execution_count": 240,
      "outputs": []
    },
    {
      "cell_type": "code",
      "source": [
        "data.info()"
      ],
      "metadata": {
        "colab": {
          "base_uri": "https://localhost:8080/"
        },
        "id": "xmK46YTju3xP",
        "outputId": "93c88201-40ad-4bb0-cafc-e1071ecf2ae0"
      },
      "execution_count": 241,
      "outputs": [
        {
          "output_type": "stream",
          "name": "stdout",
          "text": [
            "<class 'pandas.core.frame.DataFrame'>\n",
            "RangeIndex: 4898 entries, 0 to 4897\n",
            "Data columns (total 12 columns):\n",
            " #   Column                Non-Null Count  Dtype  \n",
            "---  ------                --------------  -----  \n",
            " 0   fixed acidity         4898 non-null   float64\n",
            " 1   volatile acidity      4898 non-null   float64\n",
            " 2   citric acid           4898 non-null   float64\n",
            " 3   residual sugar        4898 non-null   float64\n",
            " 4   chlorides             4898 non-null   float64\n",
            " 5   free sulfur dioxide   4898 non-null   float64\n",
            " 6   total sulfur dioxide  4898 non-null   float64\n",
            " 7   density               4898 non-null   float64\n",
            " 8   pH                    4898 non-null   float64\n",
            " 9   sulphates             4898 non-null   float64\n",
            " 10  alcohol               4898 non-null   float64\n",
            " 11  quality               4898 non-null   int64  \n",
            "dtypes: float64(11), int64(1)\n",
            "memory usage: 459.3 KB\n"
          ]
        }
      ]
    },
    {
      "cell_type": "code",
      "source": [
        "fig = plt.figure(figsize=(16, 12))\n",
        "for feat_idx in range(X.shape[1]):\n",
        "    ax = fig.add_subplot(3,4, (feat_idx+1))\n",
        "    h = ax.hist(X[:, feat_idx], bins=25, color='black', density=True, edgecolor='none')\n",
        "    ax.set_title(data.columns[feat_idx], fontsize=14)"
      ],
      "metadata": {
        "colab": {
          "base_uri": "https://localhost:8080/",
          "height": 717
        },
        "id": "OK-QCvD23gnJ",
        "outputId": "1888a24b-4120-4651-b48b-9056dd6742b7"
      },
      "execution_count": 242,
      "outputs": [
        {
          "output_type": "display_data",
          "data": {
            "text/plain": [
              "<Figure size 1152x864 with 10 Axes>"
            ],
            "image/png": "[encoded data removed]"
          },
          "metadata": {
            "needs_background": "light"
          }
        }
      ]
    },
    {
      "cell_type": "code",
      "source": [
        "########## Choix pour retomber sur une target binaire\n",
        "y_class = data['quality'].apply(lambda x: 0 if x<=6 else 1) "
      ],
      "metadata": {
        "id": "oulkd0cgvmyA"
      },
      "execution_count": 243,
      "outputs": []
    },
    {
      "cell_type": "code",
      "source": [
        "y_class"
      ],
      "metadata": {
        "colab": {
          "base_uri": "https://localhost:8080/"
        },
        "id": "Y6jaLIccPx4v",
        "outputId": "8584c850-d545-4828-a265-08471429608f"
      },
      "execution_count": 244,
      "outputs": [
        {
          "output_type": "execute_result",
          "data": {
            "text/plain": [
              "0       0\n",
              "1       0\n",
              "2       0\n",
              "3       0\n",
              "4       0\n",
              "       ..\n",
              "4893    0\n",
              "4894    0\n",
              "4895    0\n",
              "4896    1\n",
              "4897    0\n",
              "Name: quality, Length: 4898, dtype: int64"
            ]
          },
          "metadata": {},
          "execution_count": 244
        }
      ]
    },
    {
      "cell_type": "markdown",
      "source": [
        "Normalisation: "
      ],
      "metadata": {
        "id": "ZG9Ji5XFP5k4"
      }
    },
    {
      "cell_type": "code",
      "source": [
        "from sklearn.model_selection import train_test_split\n",
        "X_train, X_test, y_train, y_test = train_test_split(X, y_class, test_size = 0.30)"
      ],
      "metadata": {
        "id": "qUMq5_ZlP5PJ"
      },
      "execution_count": 245,
      "outputs": []
    },
    {
      "cell_type": "code",
      "source": [
        "from sklearn.preprocessing import StandardScaler\n",
        "scaler = StandardScaler()\n",
        "scaler.fit(X_train)\n",
        "X_train_nor = scaler.transform(X_train)\n",
        "X_test_nor = scaler.transform(X_test)"
      ],
      "metadata": {
        "id": "JWowWt50RE8A"
      },
      "execution_count": 246,
      "outputs": []
    },
    {
      "cell_type": "code",
      "source": [
        "X_train_nor"
      ],
      "metadata": {
        "colab": {
          "base_uri": "https://localhost:8080/"
        },
        "id": "xC3KHg6RTYB1",
        "outputId": "a0f55ad3-7c95-4ff0-dda1-5d76f3b7de9e"
      },
      "execution_count": 247,
      "outputs": [
        {
          "output_type": "execute_result",
          "data": {
            "text/plain": [
              "array([[ 0.009815  ,  0.71719143,  0.34839633, ..., -0.31540748,\n",
              "        -0.0990846 , -0.89999105],\n",
              "       [ 0.20802312, -0.11316936, -0.92839695, ...,  0.6141004 ,\n",
              "        -0.71061597,  0.56540393],\n",
              "       [ 0.50533529, -0.11316936,  1.80197637, ...,  0.41492014,\n",
              "         0.5998084 , -0.08588273],\n",
              "       ...,\n",
              "       [-1.08032964,  0.71719143,  1.7037615 , ..., -2.10802981,\n",
              "        -0.18644622, -0.81858022],\n",
              "       [ 0.20802312, -0.61138583,  1.36983095, ..., -0.11622722,\n",
              "        -0.53589272, -0.81858022],\n",
              "       [ 1.59547993, -2.43817956, -0.98732587, ...,  1.14524775,\n",
              "        -1.40950898,  1.29810141]])"
            ]
          },
          "metadata": {},
          "execution_count": 247
        }
      ]
    },
    {
      "cell_type": "code",
      "source": [
        "y_test"
      ],
      "metadata": {
        "colab": {
          "base_uri": "https://localhost:8080/"
        },
        "id": "TEbhDK8CaP96",
        "outputId": "b1fcee22-d386-43f1-bf5b-49d71390fcc7"
      },
      "execution_count": 248,
      "outputs": [
        {
          "output_type": "execute_result",
          "data": {
            "text/plain": [
              "2020    0\n",
              "2279    0\n",
              "3655    1\n",
              "2370    1\n",
              "1518    0\n",
              "       ..\n",
              "1034    0\n",
              "1687    1\n",
              "1156    0\n",
              "1068    1\n",
              "633     0\n",
              "Name: quality, Length: 1470, dtype: int64"
            ]
          },
          "metadata": {},
          "execution_count": 248
        }
      ]
    },
    {
      "cell_type": "markdown",
      "source": [
        "KNN classifier parce qu'on a une cible binaire "
      ],
      "metadata": {
        "id": "oxRRaqd8ROWc"
      }
    },
    {
      "cell_type": "code",
      "source": [
        "from sklearn.neighbors import KNeighborsClassifier\n",
        "from sklearn.metrics import plot_confusion_matrix\n",
        "\n",
        "classifier = KNeighborsClassifier(n_neighbors = 3)\n",
        "classifier.fit(X_train_nor, y_train)"
      ],
      "metadata": {
        "colab": {
          "base_uri": "https://localhost:8080/"
        },
        "id": "8vmhfV2IRKfn",
        "outputId": "34feb2c1-7406-49e2-a465-90210d198aba"
      },
      "execution_count": 260,
      "outputs": [
        {
          "output_type": "execute_result",
          "data": {
            "text/plain": [
              "KNeighborsClassifier(n_neighbors=3)"
            ]
          },
          "metadata": {},
          "execution_count": 260
        }
      ]
    },
    {
      "cell_type": "code",
      "source": [
        "titles_options = [(\"Confusion matrix, without normalization\", None),\n",
        "                  (\"Normalized confusion matrix\", 'true')]\n",
        "for title, normalize in titles_options:\n",
        "    disp = plot_confusion_matrix(clf, X_test_nor, y_test,\n",
        "                                 #display_labels=class_names,\n",
        "                                 cmap=plt.cm.Blues,\n",
        "                                 normalize=normalize)\n",
        "    disp.ax_.set_title(title)\n",
        "\n",
        "    print(title)\n",
        "    print(disp.confusion_matrix)\n",
        "\n",
        "plt.show()"
      ],
      "metadata": {
        "colab": {
          "base_uri": "https://localhost:8080/",
          "height": 767
        },
        "id": "ScayU1hscUpf",
        "outputId": "42b1ed48-984f-4a98-e2a4-7123a9f79d48"
      },
      "execution_count": 261,
      "outputs": [
        {
          "output_type": "stream",
          "name": "stderr",
          "text": [
            "/usr/local/lib/python3.7/dist-packages/sklearn/utils/deprecation.py:87: FutureWarning: Function plot_confusion_matrix is deprecated; Function `plot_confusion_matrix` is deprecated in 1.0 and will be removed in 1.2. Use one of the class methods: ConfusionMatrixDisplay.from_predictions or ConfusionMatrixDisplay.from_estimator.\n",
            "  warnings.warn(msg, category=FutureWarning)\n",
            "/usr/local/lib/python3.7/dist-packages/sklearn/utils/deprecation.py:87: FutureWarning: Function plot_confusion_matrix is deprecated; Function `plot_confusion_matrix` is deprecated in 1.0 and will be removed in 1.2. Use one of the class methods: ConfusionMatrixDisplay.from_predictions or ConfusionMatrixDisplay.from_estimator.\n",
            "  warnings.warn(msg, category=FutureWarning)\n"
          ]
        },
        {
          "output_type": "stream",
          "name": "stdout",
          "text": [
            "Confusion matrix, without normalization\n",
            "[[1056  109]\n",
            " [ 150  155]]\n",
            "Normalized confusion matrix\n",
            "[[0.90643777 0.09356223]\n",
            " [0.49180328 0.50819672]]\n"
          ]
        },
        {
          "output_type": "display_data",
          "data": {
            "text/plain": [
              "<Figure size 432x288 with 2 Axes>"
            ],
            "image/png": "[encoded data removed]"
          },
          "metadata": {
            "needs_background": "light"
          }
        },
        {
          "output_type": "display_data",
          "data": {
            "text/plain": [
              "<Figure size 432x288 with 2 Axes>"
            ],
            "image/png": "[encoded data removed]"
          },
          "metadata": {
            "needs_background": "light"
          }
        }
      ]
    },
    {
      "cell_type": "markdown",
      "source": [
        "##Grid Search (with CV) after KNN"
      ],
      "metadata": {
        "id": "SjMAMaDVdV-f"
      }
    },
    {
      "cell_type": "code",
      "source": [
        "########## Choix pour retomber sur une target binaire\n",
        "#y c'est la variable expliquée(target) et x l'ensemble des variables explicatives\n",
        "#numpy.where(condition, [x, y, ]/)\n",
        "#Return elements chosen from x or y depending on condition.\n",
        "#y_class = np.where(y<=6, 0, 1)"
      ],
      "metadata": {
        "id": "7QW_qTDw5cco"
      },
      "execution_count": 252,
      "outputs": []
    },
    {
      "cell_type": "markdown",
      "source": [
        "on va effectuer un grid search pour optimiser le nombre des voisins ///\n",
        "on est sur un KNN, c'est une classification"
      ],
      "metadata": {
        "id": "N1CaQtde71II"
      }
    },
    {
      "cell_type": "code",
      "source": [
        "########## On va effectuer un grid search pour optimiser le parametre du nombre de voisins \n",
        "\n",
        "from sklearn import neighbors, metrics\n",
        "\n",
        "# Fixer les valeurs des hyperparamètres à tester\n",
        "param_grid = {'n_neighbors':[3,5,7,9,11,13,15]}\n",
        "\n",
        "#on va choisir un score à optimiser \n",
        "#l'accuracy : proportion des predictions correctes\n",
        "#on commence par accuracy et après on se pose la question si on veut la changer\n",
        "#notre target est la note (on la divisé en 2: bon 1 et mauvais 0)\n",
        "# Créer un classifieur kNN avec recherche d'hyperparamètre par validation croisée\n",
        "########## On va effectuer un grid search pour optimiser le parametre du nombre de voisins \n",
        "\n",
        "# Choisir un score à optimiser, ici l'accuracy (proportion de prédictions correctes)\n",
        "score = 'accuracy'\n",
        "\n",
        "# Créer un classifieur kNN avec recherche d'hyperparamètre par validation croisée\n",
        "#estimator = KNeighborsClassifier()\n",
        "     # un classifieur kNN\n",
        "         # hyperparamètres à tester\n",
        "               # nombre de folds de validation croisée\n",
        "     # score à optimiser\n",
        "clf = model_selection.GridSearchCV(KNeighborsClassifier(),\n",
        "                                   param_grid=param_grid,\n",
        "                                   cv=5,\n",
        "                                   scoring=score\n",
        "                                   )#verbose=3\n",
        "\n",
        "# Optimiser ce classifieur sur le jeu d'entraînement\n",
        "model = clf.fit(X_train_std, y_train)\n",
        "\n",
        "# Afficher le(s) hyperparamètre(s) optimaux\n",
        "print(f\"Meilleur(s) hyperparamètre(s) sur le jeu d'entraînement: {model.best_params_}\")\n",
        "\n",
        "\n",
        "# Afficher les performances correspondantes\n",
        "print(f\"Résultats de la validation croisée : {model.best_score_}\")\n",
        "for i in range(len(param_grid[\"n_neighbors\"])):\n",
        "  print(f\"accuracy = {model.cv_results_['mean_test_score'][i]} +/- ({model.cv_results_['std_test_score'][i]}) for n_neighbors : {param_grid['n_neighbors'][i]}\")\n",
        "########## 7 ou 9 plus proches voisins semble le plus adapté"
      ],
      "metadata": {
        "colab": {
          "base_uri": "https://localhost:8080/"
        },
        "id": "lirQkolN7CSk",
        "outputId": "3e1874e1-997b-4e32-945f-53c831c183ac"
      },
      "execution_count": 263,
      "outputs": [
        {
          "output_type": "stream",
          "name": "stdout",
          "text": [
            "Meilleur(s) hyperparamètre(s) sur le jeu d'entraînement: {'n_neighbors': 15}\n",
            "Résultats de la validation croisée : 0.775670660339214\n",
            "accuracy = 0.7076997722968228 +/- (0.007241891668468443) for n_neighbors : 3\n",
            "accuracy = 0.737455257389713 +/- (0.005875710368393879) for n_neighbors : 5\n",
            "accuracy = 0.7511685216318019 +/- (0.0038688541790519765) for n_neighbors : 7\n",
            "accuracy = 0.7567087314592156 +/- (0.007010070793026561) for n_neighbors : 9\n",
            "accuracy = 0.7651686493158265 +/- (0.006601412883934844) for n_neighbors : 11\n",
            "accuracy = 0.7733365963695176 +/- (0.00204234117487401) for n_neighbors : 13\n",
            "accuracy = 0.775670660339214 +/- (0.0011378387604473541) for n_neighbors : 15\n"
          ]
        }
      ]
    },
    {
      "cell_type": "code",
      "source": [
        "model.best_score_ #résultat de la validation croisée"
      ],
      "metadata": {
        "colab": {
          "base_uri": "https://localhost:8080/"
        },
        "id": "tzGKvB7r8Jvh",
        "outputId": "f7cf6917-001a-49c6-8694-0ea5a15d9992"
      },
      "execution_count": 267,
      "outputs": [
        {
          "output_type": "execute_result",
          "data": {
            "text/plain": [
              "0.775670660339214"
            ]
          },
          "metadata": {},
          "execution_count": 267
        }
      ]
    },
    {
      "cell_type": "code",
      "source": [
        "param_grid[\"n_neighbors\"]"
      ],
      "metadata": {
        "colab": {
          "base_uri": "https://localhost:8080/"
        },
        "id": "6lmz8Npb7g9g",
        "outputId": "17d17902-3430-49e3-b022-9891163ecbbc"
      },
      "execution_count": 264,
      "outputs": [
        {
          "output_type": "execute_result",
          "data": {
            "text/plain": [
              "[3, 5, 7, 9, 11, 13, 15]"
            ]
          },
          "metadata": {},
          "execution_count": 264
        }
      ]
    },
    {
      "cell_type": "code",
      "source": [
        "model.cv_results_['mean_test_score'][0]"
      ],
      "metadata": {
        "colab": {
          "base_uri": "https://localhost:8080/"
        },
        "id": "InKaD2N27joW",
        "outputId": "c0d69e6a-50eb-4627-c2a0-179983d895a7"
      },
      "execution_count": 265,
      "outputs": [
        {
          "output_type": "execute_result",
          "data": {
            "text/plain": [
              "0.7076997722968228"
            ]
          },
          "metadata": {},
          "execution_count": 265
        }
      ]
    },
    {
      "cell_type": "code",
      "source": [
        "model.cv_results_['std_test_score'][0]"
      ],
      "metadata": {
        "colab": {
          "base_uri": "https://localhost:8080/"
        },
        "id": "2iPwIWMe7mAA",
        "outputId": "14d0fcd7-a6ea-4d5e-a982-b41a670b9ebf"
      },
      "execution_count": 266,
      "outputs": [
        {
          "output_type": "execute_result",
          "data": {
            "text/plain": [
              "0.007241891668468443"
            ]
          },
          "metadata": {},
          "execution_count": 266
        }
      ]
    },
    {
      "cell_type": "markdown",
      "source": [
        "##Courbe ROC"
      ],
      "metadata": {
        "id": "MOXdyNAd7FTZ"
      }
    },
    {
      "cell_type": "code",
      "source": [
        "########## et voici la courbe roc associée\n",
        "y_pred_proba = clf.predict_proba(X_test_nor)[:, 1]\n",
        "[fpr, tpr, thr] = metrics.roc_curve(y_test, y_pred_proba)\n",
        "plt.plot(fpr, tpr, color='coral', lw=2)\n",
        "plt.plot([0,1],[0,1])\n",
        "plt.xlim([0.0, 1.0])\n",
        "plt.ylim([0.0, 1.05])\n",
        "plt.grid()\n",
        "plt.xlabel('1 - specificite', fontsize=14)\n",
        "plt.ylabel('Sensibilite', fontsize=14)"
      ],
      "metadata": {
        "colab": {
          "base_uri": "https://localhost:8080/",
          "height": 300
        },
        "id": "5e5UeHQg1JON",
        "outputId": "1f3bf0bf-5944-4444-c211-4166752a9eff"
      },
      "execution_count": 258,
      "outputs": [
        {
          "output_type": "execute_result",
          "data": {
            "text/plain": [
              "Text(0, 0.5, 'Sensibilite')"
            ]
          },
          "metadata": {},
          "execution_count": 258
        },
        {
          "output_type": "display_data",
          "data": {
            "text/plain": [
              "<Figure size 432x288 with 1 Axes>"
            ],
            "image/png": "[encoded data removed]"
          },
          "metadata": {
            "needs_background": "light"
          }
        }
      ]
    },
    {
      "cell_type": "code",
      "source": [
        "fpr"
      ],
      "metadata": {
        "colab": {
          "base_uri": "https://localhost:8080/"
        },
        "id": "vzTaogsA25y8",
        "outputId": "15efe964-7b8c-4627-fde3-87c35b7580e2"
      },
      "execution_count": 259,
      "outputs": [
        {
          "output_type": "execute_result",
          "data": {
            "text/plain": [
              "array([0.00000000e+00, 8.58369099e-04, 8.58369099e-03, 2.31759657e-02,\n",
              "       5.06437768e-02, 9.35622318e-02, 1.65665236e-01, 2.56652361e-01,\n",
              "       3.87982833e-01, 5.25321888e-01, 1.00000000e+00])"
            ]
          },
          "metadata": {},
          "execution_count": 259
        }
      ]
    },
    {
      "cell_type": "markdown",
      "source": [
        "https://kobia.fr/classification-metrics-matrice-de-confusion/ \n",
        "https://kobia.fr/category/classification-metrics/#1 "
      ],
      "metadata": {
        "id": "qc4gkPbR85lu"
      }
    },
    {
      "cell_type": "code",
      "source": [
        "########## et voici la courbe roc associée\n",
        "y_pred_proba = neigh.predict_proba(X_test_std)[:, 1]\n",
        "[fpr, tpr, thr] = metrics.roc_curve(y_test, y_pred_proba)\n",
        "plt.plot(fpr, tpr, color='coral', lw=2)\n",
        "plt.plot([0,1],[0,1])\n",
        "plt.xlim([0.0, 1.0])\n",
        "plt.ylim([0.0, 1.05])\n",
        "plt.grid()\n",
        "plt.xlabel('1 - specificite', fontsize=14)\n",
        "plt.ylabel('Sensibilite', fontsize=14)"
      ],
      "metadata": {
        "id": "7Ow2rNKf0h6q"
      },
      "execution_count": null,
      "outputs": []
    },
    {
      "cell_type": "code",
      "source": [
        ""
      ],
      "metadata": {
        "id": "cWKp21aZ3AFW"
      },
      "execution_count": null,
      "outputs": []
    },
    {
      "cell_type": "code",
      "source": [
        "y_pred_proba_dict = {}\n",
        "metrics_dict = {}\n",
        "for i in [3,5,7,9,11,13,15]:\n",
        "  clf =KNeighborsClassifier(n_neighbors=9)\n",
        "  clf.fit(X_train_std, y_train)\n",
        "  y_pred_proba = clf.predict_proba(X_test_std)[:, 1]\n",
        "  y_pred_proba_dict[i] = clf.predict_proba(X_test_std)[:, 1]\n",
        "  [fpr, tpr, thr] = metrics.roc_curve(y_test, y_pred_proba)\n",
        "  metrics_dict[\"fpr_n_neighbors_\"+str(i)]=fpr\n",
        "  metrics_dict[\"tpr_n_neighbors_\"+str(i)]=tpr\n",
        "  metrics_dict[\"thr_n_neighbors_\"+str(i)]=thr\n"
      ],
      "metadata": {
        "id": "GrazXLS30_zx"
      },
      "execution_count": null,
      "outputs": []
    },
    {
      "cell_type": "code",
      "source": [
        "exercice:\n",
        "http://www.xavierdupre.fr/app/actuariat_python/helpsphinx/notebooks/seance6_graphes_ml_enonce.html#:~:text=La%20matrice%20de%20confusion%20est,score%20retourn%C3%A9%20par%20le%20mod%C3%A8le. "
      ],
      "metadata": {
        "id": "Bq-kavLB891V"
      },
      "execution_count": null,
      "outputs": []
    }
  ]
}